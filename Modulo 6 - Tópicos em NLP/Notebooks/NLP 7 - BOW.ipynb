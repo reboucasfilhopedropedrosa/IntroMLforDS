{
 "cells": [
  {
   "cell_type": "code",
   "execution_count": 1,
   "metadata": {},
   "outputs": [],
   "source": [
    "from sklearn.feature_extraction.text import CountVectorizer\n",
    "import nltk"
   ]
  },
  {
   "cell_type": "code",
   "execution_count": 2,
   "metadata": {},
   "outputs": [
    {
     "data": {
      "text/plain": [
       "\"Deep in the valley, surrounded by towering hills and dense forests, lies the quaint village of Meadowvale. It's a place seemingly frozen in time, where traditions are cherished, and the hustle of modern life feels like a distant concept. The village, with its cobblestone streets and thatched-roof cottages, exudes an aura of timeless charm.\\n\\nMeadowvale is known for its vibrant community. The villagers, with their warm smiles and open hearts, create an atmosphere of genuine camaraderie and mutual support. Each morning, they greet each other at the local market, a bustling hub of activity where fresh produce, homemade goods, and colorful crafts are exchanged with friendly banter.\\n\\nThe village school, a quaint building with ivy-clad walls, is the pride of Meadowvale. Here, children learn not just academics, but also the values of friendship, respect for nature, and the importance of community. The teachers are dedicated and nurturing, often going beyond their duties to ensure every child flourishes.\\n\\nIn the heart of the village stands the old oak tree, a legendary figure in Meadowvale's history. It's said that the tree has been there since the founding of the village, its branches bearing witness to generations of change and growth. Under its shade, villagers often gather for celebrations, festivals, and on warm, sunny days, simply to enjoy each other's company.\\n\\nAs the day progresses, the aroma of freshly baked bread and pastries wafts from the bakery, a favorite stop for young and old alike. The baker, with his flour-dusted apron and ever-present smile, is an expert at his craft, baking loaves that are the perfect blend of crusty and soft.\\n\\nAdjacent to the bakery is the village cafÃ©, a cozy spot where locals sip coffee, exchange news, and occasionally, burst into spontaneous music sessions. The cafÃ© walls are adorned with photographs and paintings, a testament to the artistic talents of the village inhabitants.\\n\\nMeadowvale's surrounding countryside is a patchwork of lush fields, meandering streams, and wildflower meadows. Farmers tend their land with care and reverence, following methods passed down through generations. They work in harmony with the land, ensuring that their practices are sustainable and environmentally friendly.\\n\\nAs evening approaches, the village's pace slows down. The streets, once filled with the sounds of daily life, become quiet, save for the gentle clinking of dishes from the homes as families gather for dinner. These meals are often communal affairs, where stories are shared, and laughter rings through the walls.\\n\\nTwice a month, the village hosts a dance in the town hall. These events are the highlight of Meadowvale's social calendar, with everyone, young and old, participating. The dances are lively, filled with music, joy, and a sense of togetherness that is the heart of this community.\\n\\nAs night falls, the sky above Meadowvale becomes a canvas of stars, unmarred by city lights. The villagers, who know the importance of preserving the beauty of their natural surroundings, take a moment to gaze at the night sky, finding peace in its vastness.\\n\\nIn Meadowvale, life may seem simple, but it is rich in ways that matter. Here, people understand the value of connections, of living in tune with nature, and of preserving traditions that bind them together. It is a place where every individual contributes to the tapestry of the community, creating a life that is deeply fulfilling and harmonious.\""
      ]
     },
     "execution_count": 2,
     "metadata": {},
     "output_type": "execute_result"
    }
   ],
   "source": [
    "with open(\"texto_exemplo.txt\") as f:\n",
    "    texto = f.read()\n",
    "texto"
   ]
  },
  {
   "cell_type": "code",
   "execution_count": 3,
   "metadata": {},
   "outputs": [
    {
     "data": {
      "text/plain": [
       "['Deep in the valley, surrounded by towering hills and dense forests, lies the quaint village of Meadowvale.',\n",
       " \"It's a place seemingly frozen in time, where traditions are cherished, and the hustle of modern life feels like a distant concept.\",\n",
       " 'The village, with its cobblestone streets and thatched-roof cottages, exudes an aura of timeless charm.',\n",
       " 'Meadowvale is known for its vibrant community.',\n",
       " 'The villagers, with their warm smiles and open hearts, create an atmosphere of genuine camaraderie and mutual support.',\n",
       " 'Each morning, they greet each other at the local market, a bustling hub of activity where fresh produce, homemade goods, and colorful crafts are exchanged with friendly banter.',\n",
       " 'The village school, a quaint building with ivy-clad walls, is the pride of Meadowvale.',\n",
       " 'Here, children learn not just academics, but also the values of friendship, respect for nature, and the importance of community.',\n",
       " 'The teachers are dedicated and nurturing, often going beyond their duties to ensure every child flourishes.',\n",
       " \"In the heart of the village stands the old oak tree, a legendary figure in Meadowvale's history.\",\n",
       " \"It's said that the tree has been there since the founding of the village, its branches bearing witness to generations of change and growth.\",\n",
       " \"Under its shade, villagers often gather for celebrations, festivals, and on warm, sunny days, simply to enjoy each other's company.\",\n",
       " 'As the day progresses, the aroma of freshly baked bread and pastries wafts from the bakery, a favorite stop for young and old alike.',\n",
       " 'The baker, with his flour-dusted apron and ever-present smile, is an expert at his craft, baking loaves that are the perfect blend of crusty and soft.',\n",
       " 'Adjacent to the bakery is the village cafÃ©, a cozy spot where locals sip coffee, exchange news, and occasionally, burst into spontaneous music sessions.',\n",
       " 'The cafÃ© walls are adorned with photographs and paintings, a testament to the artistic talents of the village inhabitants.',\n",
       " \"Meadowvale's surrounding countryside is a patchwork of lush fields, meandering streams, and wildflower meadows.\",\n",
       " 'Farmers tend their land with care and reverence, following methods passed down through generations.',\n",
       " 'They work in harmony with the land, ensuring that their practices are sustainable and environmentally friendly.',\n",
       " \"As evening approaches, the village's pace slows down.\",\n",
       " 'The streets, once filled with the sounds of daily life, become quiet, save for the gentle clinking of dishes from the homes as families gather for dinner.',\n",
       " 'These meals are often communal affairs, where stories are shared, and laughter rings through the walls.',\n",
       " 'Twice a month, the village hosts a dance in the town hall.',\n",
       " \"These events are the highlight of Meadowvale's social calendar, with everyone, young and old, participating.\",\n",
       " 'The dances are lively, filled with music, joy, and a sense of togetherness that is the heart of this community.',\n",
       " 'As night falls, the sky above Meadowvale becomes a canvas of stars, unmarred by city lights.',\n",
       " 'The villagers, who know the importance of preserving the beauty of their natural surroundings, take a moment to gaze at the night sky, finding peace in its vastness.',\n",
       " 'In Meadowvale, life may seem simple, but it is rich in ways that matter.',\n",
       " 'Here, people understand the value of connections, of living in tune with nature, and of preserving traditions that bind them together.',\n",
       " 'It is a place where every individual contributes to the tapestry of the community, creating a life that is deeply fulfilling and harmonious.']"
      ]
     },
     "execution_count": 3,
     "metadata": {},
     "output_type": "execute_result"
    }
   ],
   "source": [
    "sentences = nltk.sent_tokenize(texto)\n",
    "sentences"
   ]
  },
  {
   "cell_type": "code",
   "execution_count": 4,
   "metadata": {},
   "outputs": [
    {
     "data": {
      "text/plain": [
       "array([[0, 0, 0, ..., 0, 0, 0],\n",
       "       [0, 0, 0, ..., 0, 0, 0],\n",
       "       [0, 0, 0, ..., 0, 0, 0],\n",
       "       ...,\n",
       "       [0, 0, 0, ..., 0, 0, 0],\n",
       "       [0, 0, 0, ..., 0, 0, 0],\n",
       "       [0, 0, 0, ..., 0, 0, 0]], dtype=int64)"
      ]
     },
     "execution_count": 4,
     "metadata": {},
     "output_type": "execute_result"
    }
   ],
   "source": [
    "bow = CountVectorizer()\n",
    "\n",
    "X = bow.fit_transform(sentences)\n",
    "X.toarray()"
   ]
  },
  {
   "cell_type": "code",
   "execution_count": 5,
   "metadata": {},
   "outputs": [
    {
     "name": "stdout",
     "output_type": "stream",
     "text": [
      "309\n"
     ]
    },
    {
     "data": {
      "text/plain": [
       "array(['above', 'academics', 'activity', 'adjacent', 'adorned', 'affairs',\n",
       "       'alike', 'also', 'an', 'and', 'approaches', 'apron', 'are',\n",
       "       'aroma', 'artistic', 'as', 'at', 'atmosphere', 'aura', 'baked',\n",
       "       'baker', 'bakery', 'baking', 'banter', 'bearing', 'beauty',\n",
       "       'become', 'becomes', 'been', 'beyond', 'bind', 'blend', 'branches',\n",
       "       'bread', 'building', 'burst', 'bustling', 'but', 'by', 'cafã',\n",
       "       'calendar', 'camaraderie', 'canvas', 'care', 'celebrations',\n",
       "       'change', 'charm', 'cherished', 'child', 'children', 'city',\n",
       "       'clad', 'clinking', 'cobblestone', 'coffee', 'colorful',\n",
       "       'communal', 'community', 'company', 'concept', 'connections',\n",
       "       'contributes', 'cottages', 'countryside', 'cozy', 'craft',\n",
       "       'crafts', 'create', 'creating', 'crusty', 'daily', 'dance',\n",
       "       'dances', 'day', 'days', 'dedicated', 'deep', 'deeply', 'dense',\n",
       "       'dinner', 'dishes', 'distant', 'down', 'dusted', 'duties', 'each',\n",
       "       'enjoy', 'ensure', 'ensuring', 'environmentally', 'evening',\n",
       "       'events', 'ever', 'every', 'everyone', 'exchange', 'exchanged',\n",
       "       'expert', 'exudes', 'falls', 'families', 'farmers', 'favorite',\n",
       "       'feels', 'festivals', 'fields', 'figure', 'filled', 'finding',\n",
       "       'flour', 'flourishes', 'following', 'for', 'forests', 'founding',\n",
       "       'fresh', 'freshly', 'friendly', 'friendship', 'from', 'frozen',\n",
       "       'fulfilling', 'gather', 'gaze', 'generations', 'gentle', 'genuine',\n",
       "       'going', 'goods', 'greet', 'growth', 'hall', 'harmonious',\n",
       "       'harmony', 'has', 'heart', 'hearts', 'here', 'highlight', 'hills',\n",
       "       'his', 'history', 'homemade', 'homes', 'hosts', 'hub', 'hustle',\n",
       "       'importance', 'in', 'individual', 'inhabitants', 'into', 'is',\n",
       "       'it', 'its', 'ivy', 'joy', 'just', 'know', 'known', 'land',\n",
       "       'laughter', 'learn', 'legendary', 'lies', 'life', 'lights', 'like',\n",
       "       'lively', 'living', 'loaves', 'local', 'locals', 'lush', 'market',\n",
       "       'matter', 'may', 'meadows', 'meadowvale', 'meals', 'meandering',\n",
       "       'methods', 'modern', 'moment', 'month', 'morning', 'music',\n",
       "       'mutual', 'natural', 'nature', 'news', 'night', 'not', 'nurturing',\n",
       "       'oak', 'occasionally', 'of', 'often', 'old', 'on', 'once', 'open',\n",
       "       'other', 'pace', 'paintings', 'participating', 'passed',\n",
       "       'pastries', 'patchwork', 'peace', 'people', 'perfect',\n",
       "       'photographs', 'place', 'practices', 'present', 'preserving',\n",
       "       'pride', 'produce', 'progresses', 'quaint', 'quiet', 'respect',\n",
       "       'reverence', 'rich', 'rings', 'roof', 'said', 'save', 'school',\n",
       "       'seem', 'seemingly', 'sense', 'sessions', 'shade', 'shared',\n",
       "       'simple', 'simply', 'since', 'sip', 'sky', 'slows', 'smile',\n",
       "       'smiles', 'social', 'soft', 'sounds', 'spontaneous', 'spot',\n",
       "       'stands', 'stars', 'stop', 'stories', 'streams', 'streets',\n",
       "       'sunny', 'support', 'surrounded', 'surrounding', 'surroundings',\n",
       "       'sustainable', 'take', 'talents', 'tapestry', 'teachers', 'tend',\n",
       "       'testament', 'that', 'thatched', 'the', 'their', 'them', 'there',\n",
       "       'these', 'they', 'this', 'through', 'time', 'timeless', 'to',\n",
       "       'together', 'togetherness', 'towering', 'town', 'traditions',\n",
       "       'tree', 'tune', 'twice', 'under', 'understand', 'unmarred',\n",
       "       'valley', 'value', 'values', 'vastness', 'vibrant', 'village',\n",
       "       'villagers', 'wafts', 'walls', 'warm', 'ways', 'where', 'who',\n",
       "       'wildflower', 'with', 'witness', 'work', 'young'], dtype=object)"
      ]
     },
     "execution_count": 5,
     "metadata": {},
     "output_type": "execute_result"
    }
   ],
   "source": [
    "print(len(bow.get_feature_names_out()))\n",
    "bow.get_feature_names_out()"
   ]
  },
  {
   "cell_type": "code",
   "execution_count": 9,
   "metadata": {},
   "outputs": [
    {
     "name": "stdout",
     "output_type": "stream",
     "text": [
      "309\n"
     ]
    },
    {
     "data": {
      "text/plain": [
       "array(['above', 'academics', 'activity', 'adjacent', 'adorned', 'affairs',\n",
       "       'alike', 'also', 'an', 'and', 'approaches', 'apron', 'are',\n",
       "       'aroma', 'artistic', 'as', 'at', 'atmosphere', 'aura', 'baked',\n",
       "       'baker', 'bakery', 'baking', 'banter', 'bearing', 'beauty',\n",
       "       'become', 'becomes', 'been', 'beyond', 'bind', 'blend', 'branches',\n",
       "       'bread', 'building', 'burst', 'bustling', 'but', 'by', 'cafã',\n",
       "       'calendar', 'camaraderie', 'canvas', 'care', 'celebrations',\n",
       "       'change', 'charm', 'cherished', 'child', 'children', 'city',\n",
       "       'clad', 'clinking', 'cobblestone', 'coffee', 'colorful',\n",
       "       'communal', 'community', 'company', 'concept', 'connections',\n",
       "       'contributes', 'cottages', 'countryside', 'cozy', 'craft',\n",
       "       'crafts', 'create', 'creating', 'crusty', 'daily', 'dance',\n",
       "       'dances', 'day', 'days', 'dedicated', 'deep', 'deeply', 'dense',\n",
       "       'dinner', 'dishes', 'distant', 'down', 'dusted', 'duties', 'each',\n",
       "       'enjoy', 'ensure', 'ensuring', 'environmentally', 'evening',\n",
       "       'events', 'ever', 'every', 'everyone', 'exchange', 'exchanged',\n",
       "       'expert', 'exudes', 'falls', 'families', 'farmers', 'favorite',\n",
       "       'feels', 'festivals', 'fields', 'figure', 'filled', 'finding',\n",
       "       'flour', 'flourishes', 'following', 'for', 'forests', 'founding',\n",
       "       'fresh', 'freshly', 'friendly', 'friendship', 'from', 'frozen',\n",
       "       'fulfilling', 'gather', 'gaze', 'generations', 'gentle', 'genuine',\n",
       "       'going', 'goods', 'greet', 'growth', 'hall', 'harmonious',\n",
       "       'harmony', 'has', 'heart', 'hearts', 'here', 'highlight', 'hills',\n",
       "       'his', 'history', 'homemade', 'homes', 'hosts', 'hub', 'hustle',\n",
       "       'importance', 'in', 'individual', 'inhabitants', 'into', 'is',\n",
       "       'it', 'its', 'ivy', 'joy', 'just', 'know', 'known', 'land',\n",
       "       'laughter', 'learn', 'legendary', 'lies', 'life', 'lights', 'like',\n",
       "       'lively', 'living', 'loaves', 'local', 'locals', 'lush', 'market',\n",
       "       'matter', 'may', 'meadows', 'meadowvale', 'meals', 'meandering',\n",
       "       'methods', 'modern', 'moment', 'month', 'morning', 'music',\n",
       "       'mutual', 'natural', 'nature', 'news', 'night', 'not', 'nurturing',\n",
       "       'oak', 'occasionally', 'of', 'often', 'old', 'on', 'once', 'open',\n",
       "       'other', 'pace', 'paintings', 'participating', 'passed',\n",
       "       'pastries', 'patchwork', 'peace', 'people', 'perfect',\n",
       "       'photographs', 'place', 'practices', 'present', 'preserving',\n",
       "       'pride', 'produce', 'progresses', 'quaint', 'quiet', 'respect',\n",
       "       'reverence', 'rich', 'rings', 'roof', 'said', 'save', 'school',\n",
       "       'seem', 'seemingly', 'sense', 'sessions', 'shade', 'shared',\n",
       "       'simple', 'simply', 'since', 'sip', 'sky', 'slows', 'smile',\n",
       "       'smiles', 'social', 'soft', 'sounds', 'spontaneous', 'spot',\n",
       "       'stands', 'stars', 'stop', 'stories', 'streams', 'streets',\n",
       "       'sunny', 'support', 'surrounded', 'surrounding', 'surroundings',\n",
       "       'sustainable', 'take', 'talents', 'tapestry', 'teachers', 'tend',\n",
       "       'testament', 'that', 'thatched', 'the', 'their', 'them', 'there',\n",
       "       'these', 'they', 'this', 'through', 'time', 'timeless', 'to',\n",
       "       'together', 'togetherness', 'towering', 'town', 'traditions',\n",
       "       'tree', 'tune', 'twice', 'under', 'understand', 'unmarred',\n",
       "       'valley', 'value', 'values', 'vastness', 'vibrant', 'village',\n",
       "       'villagers', 'wafts', 'walls', 'warm', 'ways', 'where', 'who',\n",
       "       'wildflower', 'with', 'witness', 'work', 'young'], dtype=object)"
      ]
     },
     "execution_count": 9,
     "metadata": {},
     "output_type": "execute_result"
    }
   ],
   "source": [
    "bow = CountVectorizer(ngram_range=(1, 1)) # unigrama, bigrama, trigrama\n",
    "X = bow.fit_transform(sentences)\n",
    "\n",
    "print(len(bow.get_feature_names_out()))\n",
    "bow.get_feature_names_out()\n"
   ]
  },
  {
   "cell_type": "code",
   "execution_count": 7,
   "metadata": {},
   "outputs": [
    {
     "name": "stdout",
     "output_type": "stream",
     "text": [
      "256\n"
     ]
    },
    {
     "data": {
      "text/plain": [
       "array(['academics', 'activity', 'adjacent', 'adorned', 'affairs', 'alike',\n",
       "       'approaches', 'apron', 'aroma', 'artistic', 'atmosphere', 'aura',\n",
       "       'baked', 'baker', 'bakery', 'baking', 'banter', 'bearing',\n",
       "       'beauty', 'bind', 'blend', 'branches', 'bread', 'building',\n",
       "       'burst', 'bustling', 'cafã', 'calendar', 'camaraderie', 'canvas',\n",
       "       'care', 'celebrations', 'change', 'charm', 'cherished', 'child',\n",
       "       'children', 'city', 'clad', 'clinking', 'cobblestone', 'coffee',\n",
       "       'colorful', 'communal', 'community', 'company', 'concept',\n",
       "       'connections', 'contributes', 'cottages', 'countryside', 'cozy',\n",
       "       'craft', 'crafts', 'create', 'creating', 'crusty', 'daily',\n",
       "       'dance', 'dances', 'day', 'days', 'dedicated', 'deep', 'deeply',\n",
       "       'dense', 'dinner', 'dishes', 'distant', 'dusted', 'duties',\n",
       "       'enjoy', 'ensure', 'ensuring', 'environmentally', 'evening',\n",
       "       'events', 'exchange', 'exchanged', 'expert', 'exudes', 'falls',\n",
       "       'families', 'farmers', 'favorite', 'feels', 'festivals', 'fields',\n",
       "       'figure', 'filled', 'finding', 'flour', 'flourishes', 'following',\n",
       "       'forests', 'founding', 'fresh', 'freshly', 'friendly',\n",
       "       'friendship', 'frozen', 'fulfilling', 'gather', 'gaze',\n",
       "       'generations', 'gentle', 'genuine', 'going', 'goods', 'greet',\n",
       "       'growth', 'hall', 'harmonious', 'harmony', 'heart', 'hearts',\n",
       "       'highlight', 'hills', 'history', 'homemade', 'homes', 'hosts',\n",
       "       'hub', 'hustle', 'importance', 'individual', 'inhabitants', 'ivy',\n",
       "       'joy', 'just', 'know', 'known', 'land', 'laughter', 'learn',\n",
       "       'legendary', 'lies', 'life', 'lights', 'like', 'lively', 'living',\n",
       "       'loaves', 'local', 'locals', 'lush', 'market', 'matter', 'meadows',\n",
       "       'meadowvale', 'meals', 'meandering', 'methods', 'modern', 'moment',\n",
       "       'month', 'morning', 'music', 'mutual', 'natural', 'nature', 'news',\n",
       "       'night', 'nurturing', 'oak', 'occasionally', 'old', 'open', 'pace',\n",
       "       'paintings', 'participating', 'passed', 'pastries', 'patchwork',\n",
       "       'peace', 'people', 'perfect', 'photographs', 'place', 'practices',\n",
       "       'present', 'preserving', 'pride', 'produce', 'progresses',\n",
       "       'quaint', 'quiet', 'respect', 'reverence', 'rich', 'rings', 'roof',\n",
       "       'said', 'save', 'school', 'seemingly', 'sense', 'sessions',\n",
       "       'shade', 'shared', 'simple', 'simply', 'sip', 'sky', 'slows',\n",
       "       'smile', 'smiles', 'social', 'soft', 'sounds', 'spontaneous',\n",
       "       'spot', 'stands', 'stars', 'stop', 'stories', 'streams', 'streets',\n",
       "       'sunny', 'support', 'surrounded', 'surrounding', 'surroundings',\n",
       "       'sustainable', 'talents', 'tapestry', 'teachers', 'tend',\n",
       "       'testament', 'thatched', 'time', 'timeless', 'togetherness',\n",
       "       'towering', 'town', 'traditions', 'tree', 'tune', 'twice',\n",
       "       'understand', 'unmarred', 'valley', 'value', 'values', 'vastness',\n",
       "       'vibrant', 'village', 'villagers', 'wafts', 'walls', 'warm',\n",
       "       'ways', 'wildflower', 'witness', 'work', 'young'], dtype=object)"
      ]
     },
     "execution_count": 7,
     "metadata": {},
     "output_type": "execute_result"
    }
   ],
   "source": [
    "bow = CountVectorizer(stop_words='english')\n",
    "X = bow.fit_transform(sentences)\n",
    "\n",
    "print(len(bow.get_feature_names_out()))\n",
    "bow.get_feature_names_out()\n"
   ]
  }
 ],
 "metadata": {
  "kernelspec": {
   "display_name": "wattpanel-regression",
   "language": "python",
   "name": "python3"
  },
  "language_info": {
   "codemirror_mode": {
    "name": "ipython",
    "version": 3
   },
   "file_extension": ".py",
   "mimetype": "text/x-python",
   "name": "python",
   "nbconvert_exporter": "python",
   "pygments_lexer": "ipython3",
   "version": "3.11.4"
  }
 },
 "nbformat": 4,
 "nbformat_minor": 2
}
