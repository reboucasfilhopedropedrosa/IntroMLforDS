{
 "cells": [
  {
   "cell_type": "code",
   "execution_count": 16,
   "metadata": {},
   "outputs": [],
   "source": [
    "from sklearn.feature_extraction.text import TfidfVectorizer\n",
    "import nltk"
   ]
  },
  {
   "cell_type": "code",
   "execution_count": 17,
   "metadata": {},
   "outputs": [
    {
     "data": {
      "text/plain": [
       "\"Deep in the valley, surrounded by towering hills and dense forests, lies the quaint village of Meadowvale. It's a place seemingly frozen in time, where traditions are cherished, and the hustle of modern life feels like a distant concept. The village, with its cobblestone streets and thatched-roof cottages, exudes an aura of timeless charm.\\n\\nMeadowvale is known for its vibrant community. The villagers, with their warm smiles and open hearts, create an atmosphere of genuine camaraderie and mutual support. Each morning, they greet each other at the local market, a bustling hub of activity where fresh produce, homemade goods, and colorful crafts are exchanged with friendly banter.\\n\\nThe village school, a quaint building with ivy-clad walls, is the pride of Meadowvale. Here, children learn not just academics, but also the values of friendship, respect for nature, and the importance of community. The teachers are dedicated and nurturing, often going beyond their duties to ensure every child flourishes.\\n\\nIn the heart of the village stands the old oak tree, a legendary figure in Meadowvale's history. It's said that the tree has been there since the founding of the village, its branches bearing witness to generations of change and growth. Under its shade, villagers often gather for celebrations, festivals, and on warm, sunny days, simply to enjoy each other's company.\\n\\nAs the day progresses, the aroma of freshly baked bread and pastries wafts from the bakery, a favorite stop for young and old alike. The baker, with his flour-dusted apron and ever-present smile, is an expert at his craft, baking loaves that are the perfect blend of crusty and soft.\\n\\nAdjacent to the bakery is the village cafÃ©, a cozy spot where locals sip coffee, exchange news, and occasionally, burst into spontaneous music sessions. The cafÃ© walls are adorned with photographs and paintings, a testament to the artistic talents of the village inhabitants.\\n\\nMeadowvale's surrounding countryside is a patchwork of lush fields, meandering streams, and wildflower meadows. Farmers tend their land with care and reverence, following methods passed down through generations. They work in harmony with the land, ensuring that their practices are sustainable and environmentally friendly.\\n\\nAs evening approaches, the village's pace slows down. The streets, once filled with the sounds of daily life, become quiet, save for the gentle clinking of dishes from the homes as families gather for dinner. These meals are often communal affairs, where stories are shared, and laughter rings through the walls.\\n\\nTwice a month, the village hosts a dance in the town hall. These events are the highlight of Meadowvale's social calendar, with everyone, young and old, participating. The dances are lively, filled with music, joy, and a sense of togetherness that is the heart of this community.\\n\\nAs night falls, the sky above Meadowvale becomes a canvas of stars, unmarred by city lights. The villagers, who know the importance of preserving the beauty of their natural surroundings, take a moment to gaze at the night sky, finding peace in its vastness.\\n\\nIn Meadowvale, life may seem simple, but it is rich in ways that matter. Here, people understand the value of connections, of living in tune with nature, and of preserving traditions that bind them together. It is a place where every individual contributes to the tapestry of the community, creating a life that is deeply fulfilling and harmonious.\""
      ]
     },
     "execution_count": 17,
     "metadata": {},
     "output_type": "execute_result"
    }
   ],
   "source": [
    "with open(\"texto_exemplo.txt\") as f:\n",
    "    texto = f.read()\n",
    "texto"
   ]
  },
  {
   "cell_type": "code",
   "execution_count": 18,
   "metadata": {},
   "outputs": [],
   "source": [
    "sentences = nltk.sent_tokenize(texto)"
   ]
  },
  {
   "cell_type": "code",
   "execution_count": 19,
   "metadata": {},
   "outputs": [
    {
     "name": "stdout",
     "output_type": "stream",
     "text": [
      "  (0, 178)\t0.1779390580545362\n",
      "  (0, 196)\t0.11053477414037875\n",
      "  (0, 296)\t0.1695574127763376\n",
      "  (0, 220)\t0.265335920573612\n",
      "  (0, 164)\t0.29759150216060876\n",
      "  (0, 113)\t0.29759150216060876\n",
      "  (0, 78)\t0.29759150216060876\n",
      "  (0, 9)\t0.10683401141201258\n",
      "  (0, 139)\t0.29759150216060876\n",
      "  (0, 282)\t0.29759150216060876\n",
      "  (0, 38)\t0.265335920573612\n",
      "  (0, 257)\t0.29759150216060876\n",
      "  (0, 291)\t0.29759150216060876\n",
      "  (0, 269)\t0.18708903218073472\n",
      "  (0, 148)\t0.1779390580545362\n",
      "  (0, 76)\t0.29759150216060876\n",
      "  (1, 59)\t0.26465722254080287\n",
      "  (1, 81)\t0.26465722254080287\n",
      "  (1, 167)\t0.26465722254080287\n",
      "  (1, 103)\t0.26465722254080287\n",
      "  (1, 165)\t0.19983141908844376\n",
      "  (1, 182)\t0.26465722254080287\n",
      "  (1, 146)\t0.26465722254080287\n",
      "  (1, 47)\t0.26465722254080287\n",
      "  (1, 12)\t0.15079259186094413\n",
      "  :\t:\n",
      "  (28, 305)\t0.13052465870500832\n",
      "  (28, 284)\t0.23292662223696814\n",
      "  (28, 196)\t0.2911007095223102\n",
      "  (28, 9)\t0.09378483457659895\n",
      "  (28, 269)\t0.08211857676343552\n",
      "  (28, 148)\t0.15620479755273975\n",
      "  (29, 132)\t0.2703329600902023\n",
      "  (29, 121)\t0.2703329600902023\n",
      "  (29, 77)\t0.2703329600902023\n",
      "  (29, 68)\t0.2703329600902023\n",
      "  (29, 263)\t0.2703329600902023\n",
      "  (29, 61)\t0.2703329600902023\n",
      "  (29, 149)\t0.2703329600902023\n",
      "  (29, 267)\t0.1701519697775865\n",
      "  (29, 93)\t0.2410318987812075\n",
      "  (29, 279)\t0.1701519697775865\n",
      "  (29, 57)\t0.20411692725625957\n",
      "  (29, 152)\t0.3232806846318096\n",
      "  (29, 165)\t0.20411692725625957\n",
      "  (29, 302)\t0.1909414036248996\n",
      "  (29, 213)\t0.2410318987812075\n",
      "  (29, 153)\t0.20411692725625957\n",
      "  (29, 196)\t0.10041010065584396\n",
      "  (29, 9)\t0.09704831735327243\n",
      "  (29, 269)\t0.16995220462489322\n"
     ]
    }
   ],
   "source": [
    "tfidf_vectorizer = TfidfVectorizer()\n",
    "\n",
    "X = tfidf_vectorizer.fit_transform(sentences)\n",
    "print(X)"
   ]
  }
 ],
 "metadata": {
  "kernelspec": {
   "display_name": "wattpanel-regression",
   "language": "python",
   "name": "python3"
  },
  "language_info": {
   "codemirror_mode": {
    "name": "ipython",
    "version": 3
   },
   "file_extension": ".py",
   "mimetype": "text/x-python",
   "name": "python",
   "nbconvert_exporter": "python",
   "pygments_lexer": "ipython3",
   "version": "3.11.4"
  }
 },
 "nbformat": 4,
 "nbformat_minor": 2
}
