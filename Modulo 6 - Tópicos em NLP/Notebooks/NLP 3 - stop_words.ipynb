{
 "cells": [
  {
   "cell_type": "code",
   "execution_count": 24,
   "metadata": {},
   "outputs": [],
   "source": [
    "import nltk"
   ]
  },
  {
   "cell_type": "code",
   "execution_count": 25,
   "metadata": {},
   "outputs": [
    {
     "data": {
      "text/plain": [
       "\"Deep in the valley, surrounded by towering hills and dense forests, lies the quaint village of Meadowvale. It's a place seemingly frozen in time, where traditions are cherished, and the hustle of modern life feels like a distant concept. The village, with its cobblestone streets and thatched-roof cottages, exudes an aura of timeless charm.\\n\\nMeadowvale is known for its vibrant community. The villagers, with their warm smiles and open hearts, create an atmosphere of genuine camaraderie and mutual support. Each morning, they greet each other at the local market, a bustling hub of activity where fresh produce, homemade goods, and colorful crafts are exchanged with friendly banter.\\n\\nThe village school, a quaint building with ivy-clad walls, is the pride of Meadowvale. Here, children learn not just academics, but also the values of friendship, respect for nature, and the importance of community. The teachers are dedicated and nurturing, often going beyond their duties to ensure every child flourishes.\\n\\nIn the heart of the village stands the old oak tree, a legendary figure in Meadowvale's history. It's said that the tree has been there since the founding of the village, its branches bearing witness to generations of change and growth. Under its shade, villagers often gather for celebrations, festivals, and on warm, sunny days, simply to enjoy each other's company.\\n\\nAs the day progresses, the aroma of freshly baked bread and pastries wafts from the bakery, a favorite stop for young and old alike. The baker, with his flour-dusted apron and ever-present smile, is an expert at his craft, baking loaves that are the perfect blend of crusty and soft.\\n\\nAdjacent to the bakery is the village cafÃ©, a cozy spot where locals sip coffee, exchange news, and occasionally, burst into spontaneous music sessions. The cafÃ© walls are adorned with photographs and paintings, a testament to the artistic talents of the village inhabitants.\\n\\nMeadowvale's surrounding countryside is a patchwork of lush fields, meandering streams, and wildflower meadows. Farmers tend their land with care and reverence, following methods passed down through generations. They work in harmony with the land, ensuring that their practices are sustainable and environmentally friendly.\\n\\nAs evening approaches, the village's pace slows down. The streets, once filled with the sounds of daily life, become quiet, save for the gentle clinking of dishes from the homes as families gather for dinner. These meals are often communal affairs, where stories are shared, and laughter rings through the walls.\\n\\nTwice a month, the village hosts a dance in the town hall. These events are the highlight of Meadowvale's social calendar, with everyone, young and old, participating. The dances are lively, filled with music, joy, and a sense of togetherness that is the heart of this community.\\n\\nAs night falls, the sky above Meadowvale becomes a canvas of stars, unmarred by city lights. The villagers, who know the importance of preserving the beauty of their natural surroundings, take a moment to gaze at the night sky, finding peace in its vastness.\\n\\nIn Meadowvale, life may seem simple, but it is rich in ways that matter. Here, people understand the value of connections, of living in tune with nature, and of preserving traditions that bind them together. It is a place where every individual contributes to the tapestry of the community, creating a life that is deeply fulfilling and harmonious.\""
      ]
     },
     "execution_count": 25,
     "metadata": {},
     "output_type": "execute_result"
    }
   ],
   "source": [
    "with open(\"texto_exemplo.txt\") as f:\n",
    "    texto = f.read()\n",
    "texto"
   ]
  },
  {
   "cell_type": "code",
   "execution_count": 26,
   "metadata": {},
   "outputs": [
    {
     "name": "stderr",
     "output_type": "stream",
     "text": [
      "[nltk_data] Downloading package stopwords to\n",
      "[nltk_data]     C:\\Users\\julio\\AppData\\Roaming\\nltk_data...\n",
      "[nltk_data]   Package stopwords is already up-to-date!\n"
     ]
    },
    {
     "data": {
      "text/plain": [
       "True"
      ]
     },
     "execution_count": 26,
     "metadata": {},
     "output_type": "execute_result"
    }
   ],
   "source": [
    "nltk.download('stopwords')"
   ]
  },
  {
   "cell_type": "code",
   "execution_count": 27,
   "metadata": {},
   "outputs": [],
   "source": [
    "from nltk.corpus import stopwords"
   ]
  },
  {
   "cell_type": "code",
   "execution_count": 28,
   "metadata": {},
   "outputs": [
    {
     "data": {
      "text/plain": [
       "['i', 'me', 'my', 'myself', 'we', 'our', 'ours', 'ourselves', 'you', \"you're\"]"
      ]
     },
     "execution_count": 28,
     "metadata": {},
     "output_type": "execute_result"
    }
   ],
   "source": [
    "sw = stopwords.words('english')\n",
    "sw[:10]"
   ]
  },
  {
   "cell_type": "code",
   "execution_count": 29,
   "metadata": {},
   "outputs": [
    {
     "data": {
      "text/plain": [
       "['a',\n",
       " 'à',\n",
       " 'ao',\n",
       " 'aos',\n",
       " 'aquela',\n",
       " 'aquelas',\n",
       " 'aquele',\n",
       " 'aqueles',\n",
       " 'aquilo',\n",
       " 'as']"
      ]
     },
     "execution_count": 29,
     "metadata": {},
     "output_type": "execute_result"
    }
   ],
   "source": [
    "sw_pt = stopwords.words('portuguese')\n",
    "sw_pt[:10]"
   ]
  },
  {
   "cell_type": "code",
   "execution_count": 30,
   "metadata": {},
   "outputs": [],
   "source": [
    "words = nltk.word_tokenize(texto)"
   ]
  },
  {
   "cell_type": "code",
   "execution_count": 31,
   "metadata": {},
   "outputs": [],
   "source": [
    "def remove_stopwords(words):\n",
    "    stop_words = set(stopwords.words('english'))\n",
    "    \n",
    "    filtered_text = [word for word in words if word not in stop_words]\n",
    "    \n",
    "    return ' '.join(filtered_text)"
   ]
  },
  {
   "cell_type": "code",
   "execution_count": 32,
   "metadata": {},
   "outputs": [
    {
     "data": {
      "text/plain": [
       "\"Deep valley , surrounded towering hills dense forests , lies quaint village Meadowvale . It 's place seemingly frozen time , traditions cherished , hustle modern life feels like distant concept . The village , cobblestone streets thatched-roof cottages , exudes aura timeless charm . Meadowvale known vibrant community . The villagers , warm smiles open hearts , create atmosphere genuine camaraderie mutual support . Each morning , greet local market , bustling hub activity fresh produce , homemade goods , colorful crafts exchanged friendly banter . The village school , quaint building ivy-clad walls , pride Meadowvale . Here , children learn academics , also values friendship , respect nature , importance community . The teachers dedicated nurturing , often going beyond duties ensure every child flourishes . In heart village stands old oak tree , legendary figure Meadowvale 's history . It 's said tree since founding village , branches bearing witness generations change growth . Under shade , villagers often gather celebrations , festivals , warm , sunny days , simply enjoy 's company . As day progresses , aroma freshly baked bread pastries wafts bakery , favorite stop young old alike . The baker , flour-dusted apron ever-present smile , expert craft , baking loaves perfect blend crusty soft . Adjacent bakery village cafÃ© , cozy spot locals sip coffee , exchange news , occasionally , burst spontaneous music sessions . The cafÃ© walls adorned photographs paintings , testament artistic talents village inhabitants . Meadowvale 's surrounding countryside patchwork lush fields , meandering streams , wildflower meadows . Farmers tend land care reverence , following methods passed generations . They work harmony land , ensuring practices sustainable environmentally friendly . As evening approaches , village 's pace slows . The streets , filled sounds daily life , become quiet , save gentle clinking dishes homes families gather dinner . These meals often communal affairs , stories shared , laughter rings walls . Twice month , village hosts dance town hall . These events highlight Meadowvale 's social calendar , everyone , young old , participating . The dances lively , filled music , joy , sense togetherness heart community . As night falls , sky Meadowvale becomes canvas stars , unmarred city lights . The villagers , know importance preserving beauty natural surroundings , take moment gaze night sky , finding peace vastness . In Meadowvale , life may seem simple , rich ways matter . Here , people understand value connections , living tune nature , preserving traditions bind together . It place every individual contributes tapestry community , creating life deeply fulfilling harmonious .\""
      ]
     },
     "execution_count": 32,
     "metadata": {},
     "output_type": "execute_result"
    }
   ],
   "source": [
    "texto_filtrado = remove_stopwords(words)\n",
    "texto_filtrado"
   ]
  },
  {
   "cell_type": "code",
   "execution_count": 33,
   "metadata": {},
   "outputs": [
    {
     "data": {
      "text/plain": [
       "\"Deep in the valley, surrounded by towering hills and dense forests, lies the quaint village of Meadowvale. It's a place seemingly frozen in time, where traditions are cherished, and the hustle of modern life feels like a distant concept. The village, with its cobblestone streets and thatched-roof cottages, exudes an aura of timeless charm.\\n\\nMeadowvale is known for its vibrant community. The villagers, with their warm smiles and open hearts, create an atmosphere of genuine camaraderie and mutual support. Each morning, they greet each other at the local market, a bustling hub of activity where fresh produce, homemade goods, and colorful crafts are exchanged with friendly banter.\\n\\nThe village school, a quaint building with ivy-clad walls, is the pride of Meadowvale. Here, children learn not just academics, but also the values of friendship, respect for nature, and the importance of community. The teachers are dedicated and nurturing, often going beyond their duties to ensure every child flourishes.\\n\\nIn the heart of the village stands the old oak tree, a legendary figure in Meadowvale's history. It's said that the tree has been there since the founding of the village, its branches bearing witness to generations of change and growth. Under its shade, villagers often gather for celebrations, festivals, and on warm, sunny days, simply to enjoy each other's company.\\n\\nAs the day progresses, the aroma of freshly baked bread and pastries wafts from the bakery, a favorite stop for young and old alike. The baker, with his flour-dusted apron and ever-present smile, is an expert at his craft, baking loaves that are the perfect blend of crusty and soft.\\n\\nAdjacent to the bakery is the village cafÃ©, a cozy spot where locals sip coffee, exchange news, and occasionally, burst into spontaneous music sessions. The cafÃ© walls are adorned with photographs and paintings, a testament to the artistic talents of the village inhabitants.\\n\\nMeadowvale's surrounding countryside is a patchwork of lush fields, meandering streams, and wildflower meadows. Farmers tend their land with care and reverence, following methods passed down through generations. They work in harmony with the land, ensuring that their practices are sustainable and environmentally friendly.\\n\\nAs evening approaches, the village's pace slows down. The streets, once filled with the sounds of daily life, become quiet, save for the gentle clinking of dishes from the homes as families gather for dinner. These meals are often communal affairs, where stories are shared, and laughter rings through the walls.\\n\\nTwice a month, the village hosts a dance in the town hall. These events are the highlight of Meadowvale's social calendar, with everyone, young and old, participating. The dances are lively, filled with music, joy, and a sense of togetherness that is the heart of this community.\\n\\nAs night falls, the sky above Meadowvale becomes a canvas of stars, unmarred by city lights. The villagers, who know the importance of preserving the beauty of their natural surroundings, take a moment to gaze at the night sky, finding peace in its vastness.\\n\\nIn Meadowvale, life may seem simple, but it is rich in ways that matter. Here, people understand the value of connections, of living in tune with nature, and of preserving traditions that bind them together. It is a place where every individual contributes to the tapestry of the community, creating a life that is deeply fulfilling and harmonious.\""
      ]
     },
     "execution_count": 33,
     "metadata": {},
     "output_type": "execute_result"
    },
    {
     "ename": "",
     "evalue": "",
     "output_type": "error",
     "traceback": [
      "\u001b[1;31mThe Kernel crashed while executing code in the the current cell or a previous cell. Please review the code in the cell(s) to identify a possible cause of the failure. Click <a href='https://aka.ms/vscodeJupyterKernelCrash'>here</a> for more info. View Jupyter <a href='command:jupyter.viewOutput'>log</a> for further details."
     ]
    }
   ],
   "source": [
    "texto"
   ]
  }
 ],
 "metadata": {
  "kernelspec": {
   "display_name": "wattpanel-regression",
   "language": "python",
   "name": "python3"
  },
  "language_info": {
   "codemirror_mode": {
    "name": "ipython",
    "version": 3
   },
   "file_extension": ".py",
   "mimetype": "text/x-python",
   "name": "python",
   "nbconvert_exporter": "python",
   "pygments_lexer": "ipython3",
   "version": "3.11.4"
  }
 },
 "nbformat": 4,
 "nbformat_minor": 2
}
