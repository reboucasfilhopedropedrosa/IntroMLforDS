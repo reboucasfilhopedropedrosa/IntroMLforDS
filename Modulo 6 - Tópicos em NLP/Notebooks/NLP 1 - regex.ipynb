{
 "cells": [
  {
   "cell_type": "code",
   "execution_count": 2,
   "metadata": {},
   "outputs": [],
   "source": [
    "import re"
   ]
  },
  {
   "cell_type": "markdown",
   "metadata": {},
   "source": [
    "Encontrar todas as ocorrências de um padrão:"
   ]
  },
  {
   "cell_type": "code",
   "execution_count": 3,
   "metadata": {},
   "outputs": [
    {
     "name": "stdout",
     "output_type": "stream",
     "text": [
      "['gato', 'gato']\n"
     ]
    }
   ],
   "source": [
    "texto = \"O gato adora brincar com o outro gato.\"\n",
    "padrao = \"gato\"\n",
    "todos_os_gatos = re.findall(padrao, texto)\n",
    "print(todos_os_gatos) \n"
   ]
  },
  {
   "cell_type": "markdown",
   "metadata": {},
   "source": [
    "Dividir uma string em um padrão:"
   ]
  },
  {
   "cell_type": "code",
   "execution_count": 4,
   "metadata": {},
   "outputs": [
    {
     "name": "stdout",
     "output_type": "stream",
     "text": [
      "['Olá', ' Este é um teste', ' Este é apenas um teste', '']\n"
     ]
    }
   ],
   "source": [
    "texto = \"Olá. Este é um teste. Este é apenas um teste.\"\n",
    "frases = re.split(\"\\.\", texto)\n",
    "print(frases)"
   ]
  },
  {
   "cell_type": "code",
   "execution_count": 5,
   "metadata": {},
   "outputs": [
    {
     "name": "stdout",
     "output_type": "stream",
     "text": [
      "['maçã', 'banana', 'cereja', 'pêra']\n"
     ]
    }
   ],
   "source": [
    "texto = \"maçã, banana; cereja|pêra\"\n",
    "resultado = re.split(\", |; |\\|\", texto)\n",
    "print(resultado)"
   ]
  },
  {
   "cell_type": "markdown",
   "metadata": {},
   "source": [
    "Substituir todas as ocorrências de um padrão:"
   ]
  },
  {
   "cell_type": "code",
   "execution_count": 6,
   "metadata": {},
   "outputs": [
    {
     "name": "stdout",
     "output_type": "stream",
     "text": [
      "O cão adora brincar com o outro cão.\n"
     ]
    }
   ],
   "source": [
    "texto = \"O gato adora brincar com o outro gato.\"\n",
    "texto_alterado = re.sub(\"gato\", \"cão\", texto)\n",
    "print(texto_alterado)"
   ]
  },
  {
   "cell_type": "code",
   "execution_count": 7,
   "metadata": {},
   "outputs": [
    {
     "name": "stdout",
     "output_type": "stream",
     "text": [
      "Entrei no lapisco em .\n"
     ]
    }
   ],
   "source": [
    "texto = \"Entrei no lapisco em 2023.\"\n",
    "texto_alterado = re.sub(\"2023\", \"\", texto)\n",
    "print(texto_alterado)"
   ]
  },
  {
   "cell_type": "markdown",
   "metadata": {},
   "source": [
    "Procurar por um padrão:"
   ]
  },
  {
   "cell_type": "code",
   "execution_count": 8,
   "metadata": {},
   "outputs": [
    {
     "name": "stdout",
     "output_type": "stream",
     "text": [
      "Padrão encontrado!\n"
     ]
    }
   ],
   "source": [
    "texto = \"Python é divertido\"\n",
    "padrao = \"Python\"\n",
    "if re.search(padrao, texto):\n",
    "    print(\"Padrão encontrado!\")\n",
    "else:\n",
    "    print(\"Padrão não encontrado.\")"
   ]
  },
  {
   "cell_type": "markdown",
   "metadata": {},
   "source": [
    "Padrões mais complexos:"
   ]
  },
  {
   "cell_type": "code",
   "execution_count": 12,
   "metadata": {},
   "outputs": [
    {
     "name": "stdout",
     "output_type": "stream",
     "text": [
      "['2023', '3', '10']\n"
     ]
    },
    {
     "ename": "",
     "evalue": "",
     "output_type": "error",
     "traceback": [
      "\u001b[1;31mThe Kernel crashed while executing code in the the current cell or a previous cell. Please review the code in the cell(s) to identify a possible cause of the failure. Click <a href='https://aka.ms/vscodeJupyterKernelCrash'>here</a> for more info. View Jupyter <a href='command:jupyter.viewOutput'>log</a> for further details."
     ]
    }
   ],
   "source": [
    "texto = \"Em 2023, espero que a versão 3.10 do Python seja amplamente utilizada.\"\n",
    "numeros = re.findall(\"\\d+\", texto)\n",
    "print(numeros)"
   ]
  },
  {
   "cell_type": "code",
   "execution_count": 10,
   "metadata": {},
   "outputs": [
    {
     "name": "stdout",
     "output_type": "stream",
     "text": [
      "Usuário: neymarjr, Domínio: gmail, Extensão: com\n"
     ]
    }
   ],
   "source": [
    "texto = \"Meu nome é John, e-mail: neymarjr@gmail.com\"\n",
    "padrao = r\"(\\w+)@(\\w+)\\.(\\w+)\"\n",
    "resultado = re.search(padrao, texto)\n",
    "if resultado:\n",
    "    usuario, dominio, extensao = resultado.groups()\n",
    "    print(f\"Usuário: {usuario}, Domínio: {dominio}, Extensão: {extensao}\")"
   ]
  }
 ],
 "metadata": {
  "kernelspec": {
   "display_name": "wattpanel-regression",
   "language": "python",
   "name": "python3"
  },
  "language_info": {
   "codemirror_mode": {
    "name": "ipython",
    "version": 3
   },
   "file_extension": ".py",
   "mimetype": "text/x-python",
   "name": "python",
   "nbconvert_exporter": "python",
   "pygments_lexer": "ipython3",
   "version": "3.11.4"
  }
 },
 "nbformat": 4,
 "nbformat_minor": 2
}
